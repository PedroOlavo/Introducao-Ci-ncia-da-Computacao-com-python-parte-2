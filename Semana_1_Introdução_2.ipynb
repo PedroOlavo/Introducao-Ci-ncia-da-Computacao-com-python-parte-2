{
  "nbformat": 4,
  "nbformat_minor": 0,
  "metadata": {
    "colab": {
      "name": "Semana 1 - Introdução 2.ipynb",
      "provenance": [],
      "collapsed_sections": [],
      "authorship_tag": "ABX9TyOpTvoeKZ39sFLI+fmQGC4Y",
      "include_colab_link": true
    },
    "kernelspec": {
      "name": "python3",
      "display_name": "Python 3"
    }
  },
  "cells": [
    {
      "cell_type": "markdown",
      "metadata": {
        "id": "view-in-github",
        "colab_type": "text"
      },
      "source": [
        "<a href=\"https://colab.research.google.com/github/PedroOlavo/Introducao-a-Ciencia-Computacao-parte-2/blob/main/Semana_1_Introdu%C3%A7%C3%A3o_2.ipynb\" target=\"_parent\"><img src=\"https://colab.research.google.com/assets/colab-badge.svg\" alt=\"Open In Colab\"/></a>"
      ]
    },
    {
      "cell_type": "markdown",
      "metadata": {
        "id": "wQVVO6-pU0n4"
      },
      "source": [
        "Notebook destinado a guardar os exercícios da semana 1 do curso Introdução à ciência da computação com Python parte 2, do site Coursera e ministrado por professores do IME- USP\r\n",
        "\r\n",
        "Espero que sirva de ajuda para alguém.\r\n",
        "\r\n",
        "Se está aqui, conecte-se comigo no [LinkedIn](https://www.linkedin.com/in/pedro-olavo-sousa-201b9a1b0/).\r\n",
        "\r\n",
        "Conheça também meu [Medium](https://medium.com/@pedroolavosousa), lá publico artigos diversos sobre ciência de dados.\r\n"
      ]
    },
    {
      "cell_type": "code",
      "metadata": {
        "id": "J0tBiBl-barB"
      },
      "source": [
        "def dimensoes(matriz):\r\n",
        "  linhas = len(matriz)\r\n",
        "  colunas = len(matriz[0])\r\n",
        "  print(str(linhas)+'X'+str(colunas))"
      ],
      "execution_count": 39,
      "outputs": []
    },
    {
      "cell_type": "code",
      "metadata": {
        "id": "nhNoZPwyUhr1"
      },
      "source": [
        "def soma_matrizes(m1,m2):\r\n",
        "  linhas_m1 = len(m1)\r\n",
        "  linhas_m2 = len(m2)\r\n",
        "  colunas_m1 = len(m1[0])\r\n",
        "  colunas_m2 = len(m2[0])\r\n",
        "  if len(m1) == len(m2):\r\n",
        "    aux = True\r\n",
        "    for i in range(len(m1)):\r\n",
        "      aux = aux\r\n",
        "      if aux:\r\n",
        "        if len(m1[i]) == len(m2[i]):\r\n",
        "          aux = True\r\n",
        "        else:\r\n",
        "          aux = False\r\n",
        "      else:\r\n",
        "        aux = False\r\n",
        "        break\r\n",
        "  else:\r\n",
        "      aux = False\r\n",
        "  if aux:\r\n",
        "    matriz = []\r\n",
        "    for i in range(linhas_m1):\r\n",
        "      lista = []\r\n",
        "      for j in range(colunas_m1):\r\n",
        "        valor = m1[i][j] + m2[i][j]\r\n",
        "        lista.append(valor)\r\n",
        "      matriz.append(lista)\r\n",
        "    return matriz\r\n",
        "  else:\r\n",
        "    return False"
      ],
      "execution_count": 40,
      "outputs": []
    },
    {
      "cell_type": "code",
      "metadata": {
        "id": "ogjXox2MbyPm"
      },
      "source": [
        ""
      ],
      "execution_count": null,
      "outputs": []
    }
  ]
}