{
  "nbformat": 4,
  "nbformat_minor": 0,
  "metadata": {
    "colab": {
      "name": "Tarefa_Semana2_exercicio1.ipynb",
      "provenance": [],
      "authorship_tag": "ABX9TyPaBZ4qdij6d7lmPv8WfIRQ",
      "include_colab_link": true
    },
    "kernelspec": {
      "name": "python3",
      "display_name": "Python 3"
    },
    "language_info": {
      "name": "python"
    }
  },
  "cells": [
    {
      "cell_type": "markdown",
      "metadata": {
        "id": "view-in-github",
        "colab_type": "text"
      },
      "source": [
        "<a href=\"https://colab.research.google.com/github/PedroOlavo/Introducao-a-Ciencia-Computacao-parte-2/blob/main/Tarefa_Semana2_exercicio1.ipynb\" target=\"_parent\"><img src=\"https://colab.research.google.com/assets/colab-badge.svg\" alt=\"Open In Colab\"/></a>"
      ]
    },
    {
      "cell_type": "code",
      "metadata": {
        "id": "5kC533qTesOI"
      },
      "source": [
        "def maiusculas(texto):\n",
        "  import string\n",
        "  texto = str(texto)\n",
        "  i = 0\n",
        "  letras_maisuculas =''\n",
        "  for letra in texto:\n",
        "    if letra in string.ascii_uppercase:\n",
        "      letras_maisuculas = letras_maisuculas + letra\n",
        "  print(letras_maisuculas)"
      ],
      "execution_count": null,
      "outputs": []
    },
    {
      "cell_type": "code",
      "metadata": {
        "colab": {
          "base_uri": "https://localhost:8080/"
        },
        "id": "MZRr4Wfsff5R",
        "outputId": "5892a04d-5694-4e3b-e385-e2c50fd3b84d"
      },
      "source": [
        "texto = 'Pedro Olavo Engenheiro Mecatronico'\n",
        "\n",
        "maiusculas(texto)"
      ],
      "execution_count": null,
      "outputs": [
        {
          "output_type": "stream",
          "text": [
            "POEM\n"
          ],
          "name": "stdout"
        }
      ]
    },
    {
      "cell_type": "code",
      "metadata": {
        "id": "Z_6K7D_xpiV6",
        "colab": {
          "base_uri": "https://localhost:8080/"
        },
        "outputId": "0c2ff91c-369c-4049-be42-dd847158919a"
      },
      "source": [
        "maiusculas('PrOgRaMaMoS em python!')"
      ],
      "execution_count": null,
      "outputs": [
        {
          "output_type": "stream",
          "text": [
            "PORMMS\n"
          ],
          "name": "stdout"
        }
      ]
    },
    {
      "cell_type": "code",
      "metadata": {
        "id": "CXnXmleppipH",
        "colab": {
          "base_uri": "https://localhost:8080/"
        },
        "outputId": "902393e1-8850-4e8d-b923-162db9c4b570"
      },
      "source": [
        "maiusculas('Programamos em Python 3.')"
      ],
      "execution_count": null,
      "outputs": [
        {
          "output_type": "stream",
          "text": [
            "PP\n"
          ],
          "name": "stdout"
        }
      ]
    },
    {
      "cell_type": "code",
      "metadata": {
        "id": "fGC5fvvFpkPZ"
      },
      "source": [
        ""
      ],
      "execution_count": null,
      "outputs": []
    }
  ]
}