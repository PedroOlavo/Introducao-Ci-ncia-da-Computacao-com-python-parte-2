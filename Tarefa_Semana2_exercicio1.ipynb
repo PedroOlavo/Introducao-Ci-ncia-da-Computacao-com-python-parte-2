{
  "nbformat": 4,
  "nbformat_minor": 0,
  "metadata": {
    "colab": {
      "name": "Tarefa_Semana2_exercicio1.ipynb",
      "provenance": [],
      "authorship_tag": "ABX9TyPFBPxeGBa5bJetXF1scIX+",
      "include_colab_link": true
    },
    "kernelspec": {
      "name": "python3",
      "display_name": "Python 3"
    },
    "language_info": {
      "name": "python"
    }
  },
  "cells": [
    {
      "cell_type": "markdown",
      "metadata": {
        "id": "view-in-github",
        "colab_type": "text"
      },
      "source": [
        "<a href=\"https://colab.research.google.com/github/PedroOlavo/Introducao-a-Ciencia-Computacao-parte-2/blob/main/Tarefa_Semana2_exercicio1.ipynb\" target=\"_parent\"><img src=\"https://colab.research.google.com/assets/colab-badge.svg\" alt=\"Open In Colab\"/></a>"
      ]
    },
    {
      "cell_type": "code",
      "metadata": {
        "id": "5kC533qTesOI"
      },
      "source": [
        "def maiusculas(texto):\n",
        "  import string\n",
        "  texto = str(texto)\n",
        "  i = 0\n",
        "  letras_maisuculas =''\n",
        "  for letra in texto:\n",
        "    if letra in string.ascii_uppercase:\n",
        "      letras_maisuculas = letras_maisuculas + letra\n",
        "  return letras_maisuculas"
      ],
      "execution_count": 2,
      "outputs": []
    },
    {
      "cell_type": "code",
      "metadata": {
        "id": "y8DDHX7RcsSC"
      },
      "source": [
        ""
      ],
      "execution_count": null,
      "outputs": []
    }
  ]
}