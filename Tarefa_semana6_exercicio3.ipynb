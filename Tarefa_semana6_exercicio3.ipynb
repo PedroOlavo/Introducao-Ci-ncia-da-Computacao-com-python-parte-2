{
  "nbformat": 4,
  "nbformat_minor": 0,
  "metadata": {
    "colab": {
      "name": "Tarefa_semana6_exercicio3.ipynb",
      "provenance": [],
      "authorship_tag": "ABX9TyPou5axqcW/4ilQIJhGhSu4",
      "include_colab_link": true
    },
    "kernelspec": {
      "name": "python3",
      "display_name": "Python 3"
    },
    "language_info": {
      "name": "python"
    }
  },
  "cells": [
    {
      "cell_type": "markdown",
      "metadata": {
        "id": "view-in-github",
        "colab_type": "text"
      },
      "source": [
        "<a href=\"https://colab.research.google.com/github/PedroOlavo/Introducao-a-Ciencia-Computacao-parte-2/blob/main/Tarefa_semana6_exercicio3.ipynb\" target=\"_parent\"><img src=\"https://colab.research.google.com/assets/colab-badge.svg\" alt=\"Open In Colab\"/></a>"
      ]
    },
    {
      "cell_type": "code",
      "metadata": {
        "id": "MxIcxUi2WpL5"
      },
      "source": [
        "def incomodam(n):\n",
        "    if n <= 0 or type(n) != int:\n",
        "        return ''\n",
        "    elif n == 1:\n",
        "        return 'incomodam '\n",
        "    else:\n",
        "        return 'incomodam ' + incomodam(n - 1)\n",
        "\n",
        "def elefantes(n, primeiro = True):\n",
        "    if n < 1:\n",
        "        return ''\n",
        "    if n == 1:\n",
        "        return 'Um elefante incomoda muita gente\\n'\n",
        "\n",
        "    if primeiro:\n",
        "        return elefantes(n - 1, False) \\\n",
        "               + str(n) + ' elefantes ' + incomodam(n) + 'muito mais'\n",
        "    else:\n",
        "        return elefantes(n - 1, False) \\\n",
        "               + str(n) + ' elefantes ' + incomodam (n) + 'muito mais\\n' \\\n",
        "               + str(n) + ' elefantes ' + incomodam (n) + 'muita gente\\n'"
      ],
      "execution_count": 6,
      "outputs": []
    }
  ]
}