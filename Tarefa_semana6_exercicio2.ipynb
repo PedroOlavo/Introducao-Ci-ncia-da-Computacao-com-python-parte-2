{
  "nbformat": 4,
  "nbformat_minor": 0,
  "metadata": {
    "colab": {
      "name": "Tarefa_semana6_exercicio2.ipynb",
      "provenance": [],
      "authorship_tag": "ABX9TyOV2Wq+kWmczYPS//bmgyTI",
      "include_colab_link": true
    },
    "kernelspec": {
      "name": "python3",
      "display_name": "Python 3"
    },
    "language_info": {
      "name": "python"
    }
  },
  "cells": [
    {
      "cell_type": "markdown",
      "metadata": {
        "id": "view-in-github",
        "colab_type": "text"
      },
      "source": [
        "<a href=\"https://colab.research.google.com/github/PedroOlavo/Introducao-a-Ciencia-Computacao-parte-2/blob/main/Tarefa_semana6_exercicio2.ipynb\" target=\"_parent\"><img src=\"https://colab.research.google.com/assets/colab-badge.svg\" alt=\"Open In Colab\"/></a>"
      ]
    },
    {
      "cell_type": "code",
      "metadata": {
        "id": "MxIcxUi2WpL5"
      },
      "source": [
        "def encontra_impares(lista):\n",
        "    if not lista:\n",
        "        return []\n",
        "    if lista[0] % 2 == 1:\n",
        "        return [lista[0]] + encontra_impares(lista[1:])\n",
        "    return encontra_impares(lista[1:])"
      ],
      "execution_count": 3,
      "outputs": []
    }
  ]
}