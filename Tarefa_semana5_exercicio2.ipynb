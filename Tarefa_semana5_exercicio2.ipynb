{
  "nbformat": 4,
  "nbformat_minor": 0,
  "metadata": {
    "colab": {
      "name": "Tarefa_semana5_exercicio2.ipynb",
      "provenance": [],
      "authorship_tag": "ABX9TyM8UW/d/iNkBT5ulkOJaBvL",
      "include_colab_link": true
    },
    "kernelspec": {
      "name": "python3",
      "display_name": "Python 3"
    },
    "language_info": {
      "name": "python"
    }
  },
  "cells": [
    {
      "cell_type": "markdown",
      "metadata": {
        "id": "view-in-github",
        "colab_type": "text"
      },
      "source": [
        "<a href=\"https://colab.research.google.com/github/PedroOlavo/Introducao-a-Ciencia-Computacao-parte-2/blob/main/Tarefa_semana5_exercicio2.ipynb\" target=\"_parent\"><img src=\"https://colab.research.google.com/assets/colab-badge.svg\" alt=\"Open In Colab\"/></a>"
      ]
    },
    {
      "cell_type": "code",
      "metadata": {
        "id": "G7TpncHjeIjf"
      },
      "source": [
        "def bubble_sort(lista):\n",
        "    for num in range(len(lista)-1,0,-1):\n",
        "        for i in range(num):\n",
        "            if lista[i]>lista[i+1]:\n",
        "                temp = lista[i]\n",
        "                lista[i] = lista[i+1]\n",
        "                lista[i+1] = temp\n",
        "                print(lista)\n",
        "    return lista"
      ],
      "execution_count": 2,
      "outputs": []
    }
  ]
}