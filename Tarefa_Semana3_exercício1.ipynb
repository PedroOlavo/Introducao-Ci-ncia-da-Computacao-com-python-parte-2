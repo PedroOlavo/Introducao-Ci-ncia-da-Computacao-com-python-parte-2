{
  "nbformat": 4,
  "nbformat_minor": 0,
  "metadata": {
    "colab": {
      "name": "Tarefa_Semana3_exercício1.ipynb",
      "provenance": [],
      "authorship_tag": "ABX9TyNno9LHfCImEZ/aF31qbYUu",
      "include_colab_link": true
    },
    "kernelspec": {
      "name": "python3",
      "display_name": "Python 3"
    },
    "language_info": {
      "name": "python"
    }
  },
  "cells": [
    {
      "cell_type": "markdown",
      "metadata": {
        "id": "view-in-github",
        "colab_type": "text"
      },
      "source": [
        "<a href=\"https://colab.research.google.com/github/PedroOlavo/Introducao-a-Ciencia-Computacao-parte-2/blob/main/Tarefa_Semana3_exerc%C3%ADcio1.ipynb\" target=\"_parent\"><img src=\"https://colab.research.google.com/assets/colab-badge.svg\" alt=\"Open In Colab\"/></a>"
      ]
    },
    {
      "cell_type": "code",
      "metadata": {
        "id": "DNnyda9X9ByJ"
      },
      "source": [
        "class Triangulo:\n",
        "\n",
        "    def __init__(self, l1, l2, l3):\n",
        "        self.a = l1\n",
        "        self.b = l2\n",
        "        self.c = l3\n",
        "\n",
        "    def perimetro(self):\n",
        "        return (self.a + self.b + self.c)\n",
        "\n",
        "    "
      ],
      "execution_count": 12,
      "outputs": []
    },
    {
      "cell_type": "code",
      "metadata": {
        "id": "hoYg3a4I-uzu"
      },
      "source": [
        ""
      ],
      "execution_count": null,
      "outputs": []
    }
  ]
}