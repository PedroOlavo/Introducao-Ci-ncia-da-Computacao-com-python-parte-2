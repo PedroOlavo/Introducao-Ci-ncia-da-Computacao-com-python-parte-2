{
  "nbformat": 4,
  "nbformat_minor": 0,
  "metadata": {
    "colab": {
      "name": "Tarefa_semana5_exercicio1.ipynb",
      "provenance": [],
      "authorship_tag": "ABX9TyPzEHfwLh5nZaenkX+RrKIk",
      "include_colab_link": true
    },
    "kernelspec": {
      "name": "python3",
      "display_name": "Python 3"
    },
    "language_info": {
      "name": "python"
    }
  },
  "cells": [
    {
      "cell_type": "markdown",
      "metadata": {
        "id": "view-in-github",
        "colab_type": "text"
      },
      "source": [
        "<a href=\"https://colab.research.google.com/github/PedroOlavo/Introducao-a-Ciencia-Computacao-parte-2/blob/main/Tarefa_semana5_exercicio1.ipynb\" target=\"_parent\"><img src=\"https://colab.research.google.com/assets/colab-badge.svg\" alt=\"Open In Colab\"/></a>"
      ]
    },
    {
      "cell_type": "code",
      "metadata": {
        "id": "G7TpncHjeIjf"
      },
      "source": [
        "def busca(lista, elemento):\n",
        "\n",
        "    primeiro = 0\n",
        "    ultimo = len(lista) - 1\n",
        "\n",
        "    while primeiro <= ultimo:\n",
        "        meio = int ((primeiro + ultimo) / 2)\n",
        "        if lista[meio] == elemento:\n",
        "            return meio\n",
        "        elif lista[meio] > elemento:\n",
        "            ultimo = meio - 1\n",
        "        elif lista[meio] < elemento:\n",
        "            primeiro = meio + 1\n",
        "        else:\n",
        "            return False\n",
        "        \n",
        "    return False"
      ],
      "execution_count": 5,
      "outputs": []
    },
    {
      "cell_type": "code",
      "metadata": {
        "id": "xHaRC6j2e5T8"
      },
      "source": [
        ""
      ],
      "execution_count": null,
      "outputs": []
    }
  ]
}