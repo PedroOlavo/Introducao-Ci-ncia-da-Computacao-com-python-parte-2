{
  "nbformat": 4,
  "nbformat_minor": 0,
  "metadata": {
    "colab": {
      "name": "Tarefa_Semana2_Exercicio2.ipynb",
      "provenance": [],
      "authorship_tag": "ABX9TyPTLF+f5zn2iuS96Y7lc/bh",
      "include_colab_link": true
    },
    "kernelspec": {
      "name": "python3",
      "display_name": "Python 3"
    },
    "language_info": {
      "name": "python"
    }
  },
  "cells": [
    {
      "cell_type": "markdown",
      "metadata": {
        "id": "view-in-github",
        "colab_type": "text"
      },
      "source": [
        "<a href=\"https://colab.research.google.com/github/PedroOlavo/Introducao-a-Ciencia-Computacao-parte-2/blob/main/Tarefa_Semana2_Exercicio2.ipynb\" target=\"_parent\"><img src=\"https://colab.research.google.com/assets/colab-badge.svg\" alt=\"Open In Colab\"/></a>"
      ]
    },
    {
      "cell_type": "code",
      "metadata": {
        "id": "jczikO6EZDCH"
      },
      "source": [
        "def menor_nome(nomes):\n",
        "  if len(nomes) == 0:\n",
        "    print('Lista de nomes inválidas.')\n",
        "  else:\n",
        "    lista = []\n",
        "    num_letras = 0\n",
        "    for i in range(len(nomes)):\n",
        "      num_letras = len(nomes[i])\n",
        "      lista.append(num_letras)\n",
        "    \n",
        "    maior = max(lista)\n",
        "    posicao = lista.index(maior)\n",
        "    maior_nome = nomes[posicao].capitalize()\n",
        "\n",
        "    return maior_nome\n",
        "      \n"
      ],
      "execution_count": 8,
      "outputs": []
    },
    {
      "cell_type": "code",
      "metadata": {
        "id": "QttrZL9Da_sl"
      },
      "source": [
        ""
      ],
      "execution_count": null,
      "outputs": []
    }
  ]
}