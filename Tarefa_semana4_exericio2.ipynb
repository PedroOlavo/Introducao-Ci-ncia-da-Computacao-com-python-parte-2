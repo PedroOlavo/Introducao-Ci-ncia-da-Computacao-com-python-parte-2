{
  "nbformat": 4,
  "nbformat_minor": 0,
  "metadata": {
    "colab": {
      "name": "Tarefa_semana4_exericio2.ipynb",
      "provenance": [],
      "authorship_tag": "ABX9TyPR6mK6KeKuRPymTQVZoStX",
      "include_colab_link": true
    },
    "kernelspec": {
      "name": "python3",
      "display_name": "Python 3"
    },
    "language_info": {
      "name": "python"
    }
  },
  "cells": [
    {
      "cell_type": "markdown",
      "metadata": {
        "id": "view-in-github",
        "colab_type": "text"
      },
      "source": [
        "<a href=\"https://colab.research.google.com/github/PedroOlavo/Introducao-a-Ciencia-Computacao-parte-2/blob/main/Tarefa_semana4_exericio2.ipynb\" target=\"_parent\"><img src=\"https://colab.research.google.com/assets/colab-badge.svg\" alt=\"Open In Colab\"/></a>"
      ]
    },
    {
      "cell_type": "code",
      "metadata": {
        "id": "DVzUuEbAW63T"
      },
      "source": [
        "def busca(lista, elemento):\n",
        "    for i in range(len(lista)):\n",
        "        if lista[i] == elemento:\n",
        "            return i\n",
        "    return False"
      ],
      "execution_count": 20,
      "outputs": []
    }
  ]
}