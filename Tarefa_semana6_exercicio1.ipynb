{
  "nbformat": 4,
  "nbformat_minor": 0,
  "metadata": {
    "colab": {
      "name": "Tarefa_semana6_exercicio1.ipynb",
      "provenance": [],
      "authorship_tag": "ABX9TyNkuFvx3IMljSG8aWlfPYJU",
      "include_colab_link": true
    },
    "kernelspec": {
      "name": "python3",
      "display_name": "Python 3"
    },
    "language_info": {
      "name": "python"
    }
  },
  "cells": [
    {
      "cell_type": "markdown",
      "metadata": {
        "id": "view-in-github",
        "colab_type": "text"
      },
      "source": [
        "<a href=\"https://colab.research.google.com/github/PedroOlavo/Introducao-a-Ciencia-Computacao-parte-2/blob/main/Tarefa_semana6_exercicio1.ipynb\" target=\"_parent\"><img src=\"https://colab.research.google.com/assets/colab-badge.svg\" alt=\"Open In Colab\"/></a>"
      ]
    },
    {
      "cell_type": "code",
      "metadata": {
        "id": "MxIcxUi2WpL5"
      },
      "source": [
        "def soma_lista(lista):\n",
        "    if len(lista) == 1:\n",
        "        return lista[0]\n",
        "    return lista[0] + soma_lista(lista[1:]) #recursão"
      ],
      "execution_count": 2,
      "outputs": []
    }
  ]
}