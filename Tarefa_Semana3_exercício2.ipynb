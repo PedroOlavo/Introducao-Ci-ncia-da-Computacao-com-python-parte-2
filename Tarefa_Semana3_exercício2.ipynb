{
  "nbformat": 4,
  "nbformat_minor": 0,
  "metadata": {
    "colab": {
      "name": "Tarefa_Semana3_exercício2.ipynb",
      "provenance": [],
      "authorship_tag": "ABX9TyN5LKcRGQtV/ET77UadukbE",
      "include_colab_link": true
    },
    "kernelspec": {
      "name": "python3",
      "display_name": "Python 3"
    },
    "language_info": {
      "name": "python"
    }
  },
  "cells": [
    {
      "cell_type": "markdown",
      "metadata": {
        "id": "view-in-github",
        "colab_type": "text"
      },
      "source": [
        "<a href=\"https://colab.research.google.com/github/PedroOlavo/Introducao-a-Ciencia-Computacao-parte-2/blob/main/Tarefa_Semana3_exerc%C3%ADcio2.ipynb\" target=\"_parent\"><img src=\"https://colab.research.google.com/assets/colab-badge.svg\" alt=\"Open In Colab\"/></a>"
      ]
    },
    {
      "cell_type": "code",
      "metadata": {
        "id": "DNnyda9X9ByJ"
      },
      "source": [
        "class Triangulo:\n",
        "\n",
        "    def __init__(self, a, b, c):\n",
        "        self.a = a\n",
        "        self.b = b\n",
        "        self.c = c\n",
        "\n",
        "    def perimetro(self):\n",
        "        return (self.a + self.b + self.c)\n",
        "\n",
        "    def tipo_lado(self):\n",
        "        if (self.a == self.b) and (self.b == self.c):\n",
        "            return \"equilátero\"\n",
        "        elif (self.a == self.b) or (self.b == self.c) or (self.a == self.c):\n",
        "            return \"isósceles\"\n",
        "        else :\n",
        "            return \"escaleno\""
      ],
      "execution_count": 8,
      "outputs": []
    }
  ]
}