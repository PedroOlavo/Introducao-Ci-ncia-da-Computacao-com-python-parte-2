{
  "nbformat": 4,
  "nbformat_minor": 0,
  "metadata": {
    "colab": {
      "name": "Tarefa_semana4_exericio1.ipynb",
      "provenance": [],
      "authorship_tag": "ABX9TyOvtltpR33zXLkur5Q5sOy+",
      "include_colab_link": true
    },
    "kernelspec": {
      "name": "python3",
      "display_name": "Python 3"
    },
    "language_info": {
      "name": "python"
    }
  },
  "cells": [
    {
      "cell_type": "markdown",
      "metadata": {
        "id": "view-in-github",
        "colab_type": "text"
      },
      "source": [
        "<a href=\"https://colab.research.google.com/github/PedroOlavo/Introducao-a-Ciencia-Computacao-parte-2/blob/main/Tarefa_semana4_exericio1.ipynb\" target=\"_parent\"><img src=\"https://colab.research.google.com/assets/colab-badge.svg\" alt=\"Open In Colab\"/></a>"
      ]
    },
    {
      "cell_type": "code",
      "metadata": {
        "id": "DVzUuEbAW63T"
      },
      "source": [
        "def ordenada(lista):\n",
        "  proximo_valor  = 0\n",
        "\n",
        "  for i in range(len(lista)):\n",
        "    proximo_valor = i + 1\n",
        "    if proximo_valor < len(lista):\n",
        "      if lista[i] > lista[proximo_valor]:\n",
        "        return False\n",
        "  return True"
      ],
      "execution_count": 12,
      "outputs": []
    }
  ]
}